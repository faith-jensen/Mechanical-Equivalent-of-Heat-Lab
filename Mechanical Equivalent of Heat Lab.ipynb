{
 "cells": [
  {
   "cell_type": "markdown",
   "metadata": {},
   "source": []
  },
  {
   "cell_type": "code",
   "execution_count": 2,
   "metadata": {},
   "outputs": [
    {
     "name": "stdout",
     "output_type": "stream",
     "text": [
      "3102.3415698431013\n"
     ]
    }
   ],
   "source": [
    "#W\n",
    "import numpy as np \n",
    "import math \n",
    "\n",
    "def Work (g, r, M, N):\n",
    "    Work = 2*math.pi*g*r*M*N\n",
    "    return Work\n",
    "\n",
    "g = 9.81 #m/s^2\n",
    "r = .024 #m\n",
    "M = 6.355 #kg\n",
    "N = 330\n",
    "\n",
    "print(Work(g, r, M, N))"
   ]
  },
  {
   "cell_type": "code",
   "execution_count": 3,
   "metadata": {},
   "outputs": [
    {
     "name": "stdout",
     "output_type": "stream",
     "text": [
      "710.7952219999999\n"
     ]
    }
   ],
   "source": [
    "#Q\n",
    "import numpy as np \n",
    "import math \n",
    "\n",
    "def Q (m, c, Tf, Ti):\n",
    "    Q = m*c*(Tf-Ti)\n",
    "    return Q\n",
    "\n",
    "m = .2029 #kg\n",
    "c = 214 #cal/kg*C\n",
    "Tf = 29 #C\n",
    "Ti = 12.63 #C\n",
    "\n",
    "print(Q(m, c, Tf, Ti))"
   ]
  },
  {
   "cell_type": "code",
   "execution_count": 4,
   "metadata": {},
   "outputs": [
    {
     "name": "stdout",
     "output_type": "stream",
     "text": [
      "4.364606673504708\n"
     ]
    }
   ],
   "source": [
    "#J\n",
    "import numpy as np \n",
    "import math \n",
    "\n",
    "def J (W, Q):\n",
    "    J = W/Q\n",
    "    return J\n",
    "\n",
    "W = 3102.341569\n",
    "Q = 710.7952219\n",
    "\n",
    "print(J(W, Q))"
   ]
  },
  {
   "cell_type": "code",
   "execution_count": 6,
   "metadata": {},
   "outputs": [
    {
     "name": "stdout",
     "output_type": "stream",
     "text": [
      "11.41888250118769\n"
     ]
    }
   ],
   "source": [
    "#Uncertainty of Work\n",
    "import numpy as np\n",
    "\n",
    "def rule4(m, dA, A, n, dB, B, p, dC, C, Q):\n",
    "    dQ = Q*np.sqrt(((m*dA)/A)**2 +((n*dB)/B)**2 + ((p*dC)/C)**2)\n",
    "    return dQ\n",
    "\n",
    "m = 1\n",
    "dA = .00005\n",
    "A = .024\n",
    "n = 1\n",
    "dB = .001\n",
    "B = 6.355\n",
    "p = 1\n",
    "dC = 1\n",
    "C = 330\n",
    "Q = 3102.341569\n",
    "\n",
    "dQ = rule4(m, dA, A, n, dB, B, p, dC, C, Q)\n",
    "print (dQ)"
   ]
  },
  {
   "cell_type": "code",
   "execution_count": 8,
   "metadata": {},
   "outputs": [
    {
     "name": "stdout",
     "output_type": "stream",
     "text": [
      "6.150584749256294\n"
     ]
    }
   ],
   "source": [
    "#Uncertainty of Heat\n",
    "import numpy as np\n",
    "\n",
    "def rule4(m, dA, A, n, dB, B, Q):\n",
    "    dQ = Q*np.sqrt(((m*dA)/A)**2 +((n*dB)/B)**2)\n",
    "    return dQ\n",
    "\n",
    "m = 1\n",
    "dA = .0001\n",
    "A = .2029\n",
    "n = 1\n",
    "dB = .1414213562\n",
    "B = 16.37\n",
    "Q = 710.7952219\n",
    "\n",
    "dQ = rule4(m, dA, A, n, dB, B, Q)\n",
    "print (dQ)"
   ]
  },
  {
   "cell_type": "code",
   "execution_count": 10,
   "metadata": {},
   "outputs": [
    {
     "name": "stdout",
     "output_type": "stream",
     "text": [
      "0.04104215329576863\n"
     ]
    }
   ],
   "source": [
    "#Uncertainty of J\n",
    "import numpy as np\n",
    "\n",
    "def rule4(m, dA, A, n, dB, B, Q):\n",
    "    dQ = Q*np.sqrt(((m*dA)/A)**2 +((n*dB)/B)**2)\n",
    "    return dQ\n",
    "\n",
    "m = 1\n",
    "dA = 11.41888250118769\n",
    "A = 3102.3415698431013\n",
    "n = -1\n",
    "dB = 6.150584749256294\n",
    "B = 710.7952219\n",
    "Q = 4.364606673504708\n",
    "\n",
    "dQ = rule4(m, dA, A, n, dB, B, Q)\n",
    "print (dQ)"
   ]
  },
  {
   "cell_type": "markdown",
   "metadata": {},
   "source": [
    "# Results\n",
    "## J = 4.36 +/- .04 J/cal"
   ]
  },
  {
   "cell_type": "markdown",
   "metadata": {},
   "source": [
    " "
   ]
  }
 ],
 "metadata": {
  "kernelspec": {
   "display_name": "Python 3",
   "language": "python",
   "name": "python3"
  },
  "language_info": {
   "codemirror_mode": {
    "name": "ipython",
    "version": 3
   },
   "file_extension": ".py",
   "mimetype": "text/x-python",
   "name": "python",
   "nbconvert_exporter": "python",
   "pygments_lexer": "ipython3",
   "version": "3.8.3"
  }
 },
 "nbformat": 4,
 "nbformat_minor": 4
}
